{
 "cells": [
  {
   "cell_type": "code",
   "execution_count": 2,
   "metadata": {},
   "outputs": [],
   "source": [
    "import os\n",
    "import requests\n",
    "import pandas as pd\n",
    "from bs4 import BeautifulSoup\n",
    "from datetime import datetime"
   ]
  },
  {
   "cell_type": "code",
   "execution_count": 5,
   "metadata": {},
   "outputs": [],
   "source": [
    "URL = \"https://cellphones.com.vn/\"  # Lấy URLs trang chủ của Cellphones\n",
    "Page = requests.get(URL).text\n",
    "Soup = BeautifulSoup(Page, \"lxml\")\n",
    "\n",
    "Links = Soup.find_all(\"a\", class_=\"multiple-link\")\n",
    "\n",
    "# for link in Links:\n",
    "#     href = link.get(\"href\")\n",
    "#     print(f\"{href}\")"
   ]
  },
  {
   "cell_type": "code",
   "execution_count": 6,
   "metadata": {},
   "outputs": [
    {
     "data": {
      "text/plain": [
       "[<a class=\"multiple-link\" href=\"https://cellphones.com.vn/mobile.html\"><span>Điện thoại, </span></a>,\n",
       " <a class=\"multiple-link\" href=\"https://cellphones.com.vn/tablet.html\"><span>Tablet</span></a>,\n",
       " <a class=\"multiple-link\" href=\"https://cellphones.com.vn/do-choi-cong-nghe.html\"><span>Đồng hồ, </span></a>,\n",
       " <a class=\"multiple-link\" href=\"https://cellphones.com.vn/phu-kien/camera.html\"><span>Camera</span></a>,\n",
       " <a class=\"multiple-link\" href=\"https://cellphones.com.vn/do-gia-dung.html\n",
       " \"><span>Đồ gia dụng</span></a>,\n",
       " <a class=\"multiple-link\" href=\"https://cellphones.com.vn/may-tinh-de-ban.html\"><span>PC, </span></a>,\n",
       " <a class=\"multiple-link\" href=\"https://cellphones.com.vn/man-hinh.html\"><span>Màn hình, </span></a>,\n",
       " <a class=\"multiple-link\" href=\"https://cellphones.com.vn/may-in.html\"><span>Máy in</span></a>,\n",
       " <a class=\"multiple-link\" href=\"https://cellphones.com.vn/mobile.html\"><span>Điện thoại, </span></a>,\n",
       " <a class=\"multiple-link\" href=\"https://cellphones.com.vn/tablet.html\"><span>Tablet</span></a>,\n",
       " <a class=\"multiple-link\" href=\"https://cellphones.com.vn/do-choi-cong-nghe.html\"><span>Đồng hồ, </span></a>,\n",
       " <a class=\"multiple-link\" href=\"https://cellphones.com.vn/phu-kien/camera.html\"><span>Camera</span></a>,\n",
       " <a class=\"multiple-link\" href=\"https://cellphones.com.vn/do-gia-dung.html\n",
       " \"><span>Đồ gia dụng</span></a>,\n",
       " <a class=\"multiple-link\" href=\"https://cellphones.com.vn/may-tinh-de-ban.html\"><span>PC, </span></a>,\n",
       " <a class=\"multiple-link\" href=\"https://cellphones.com.vn/man-hinh.html\"><span>Màn hình, </span></a>,\n",
       " <a class=\"multiple-link\" href=\"https://cellphones.com.vn/may-in.html\"><span>Máy in</span></a>]"
      ]
     },
     "execution_count": 6,
     "metadata": {},
     "output_type": "execute_result"
    }
   ],
   "source": [
    "Links"
   ]
  },
  {
   "cell_type": "code",
   "execution_count": 13,
   "metadata": {},
   "outputs": [],
   "source": []
  },
  {
   "cell_type": "code",
   "execution_count": null,
   "metadata": {},
   "outputs": [],
   "source": []
  },
  {
   "cell_type": "code",
   "execution_count": 4,
   "metadata": {},
   "outputs": [],
   "source": [
    "def Scrape_Cellphones():\n",
    "    url = \"https://cellphones.com.vn/\" # Lấy URLs trang chủ của Cellphones\n",
    "    page = requests.get(url).text \n",
    "    soup = BeautifulSoup(page, \"html.parser\")\n",
    "\n",
    "    phones = soup.find_all(\"h3\", class_=\"product-title\")\n",
    "    prices = soup.find_all(\"span\", class_=\"price\")\n",
    "\n",
    "    phone_list = []\n",
    "    for phone, price in zip(phones, prices):\n",
    "        phone_list.append({\n",
    "            \"Product\": phone.text.strip(),\n",
    "            \"Price\": price.text.replace(\"₫\", \"\").replace(\".\", \"\").strip(),\n",
    "            \"Date\": datetime.now().strftime(\"%Y-%m-%d\")\n",
    "        })\n",
    "    return phone_list\n"
   ]
  }
 ],
 "metadata": {
  "kernelspec": {
   "display_name": "python3",
   "language": "python",
   "name": "python3"
  },
  "language_info": {
   "codemirror_mode": {
    "name": "ipython",
    "version": 3
   },
   "file_extension": ".py",
   "mimetype": "text/x-python",
   "name": "python",
   "nbconvert_exporter": "python",
   "pygments_lexer": "ipython3",
   "version": "3.10.14"
  }
 },
 "nbformat": 4,
 "nbformat_minor": 2
}
