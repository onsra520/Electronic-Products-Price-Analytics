{
 "cells": [
  {
   "cell_type": "code",
   "execution_count": 1,
   "metadata": {},
   "outputs": [],
   "source": [
    "import os, shutil, glob\n",
    "import time, requests\n",
    "import pandas as pd\n",
    "from bs4 import BeautifulSoup\n",
    "from selenium import webdriver\n",
    "from selenium.webdriver.common.by import By\n",
    "from selenium.webdriver.support.ui import WebDriverWait\n",
    "from selenium.webdriver.support import expected_conditions as EC"
   ]
  },
  {
   "cell_type": "code",
   "execution_count": 2,
   "metadata": {},
   "outputs": [],
   "source": [
    "os.makedirs(os.path.join(\"Cellphones Data\",\"Dataset\"),exist_ok = True)"
   ]
  },
  {
   "cell_type": "code",
   "execution_count": 2,
   "metadata": {},
   "outputs": [],
   "source": [
    "def Scrape_Product(URLs, Name):\n",
    "    driver = webdriver.Edge()\n",
    "\n",
    "    try:\n",
    "        URL = URLs\n",
    "        driver.get(URL)\n",
    "        \n",
    "        def close_popups():\n",
    "            while True:\n",
    "                try:\n",
    "                    close_button = WebDriverWait(driver, 2).until(\n",
    "                        EC.element_to_be_clickable((By.CSS_SELECTOR, \"button.modal-close.is-large\"))\n",
    "                    )\n",
    "                    close_button.click()\n",
    "                    time.sleep(0.5)\n",
    "                except Exception:\n",
    "                    break\n",
    "\n",
    "            while True:\n",
    "                try:\n",
    "                    close_promo_button = WebDriverWait(driver, 2).until(\n",
    "                        EC.element_to_be_clickable((By.CSS_SELECTOR, \"button.cancel-button-top\"))\n",
    "                    )\n",
    "                    close_promo_button.click()\n",
    "                    time.sleep(0.5)\n",
    "                except Exception:\n",
    "                    break\n",
    "        \n",
    "        while True:\n",
    "            try:\n",
    "                close_popups()            \n",
    "                show_more_button = WebDriverWait(driver, 2).until(\n",
    "                    EC.element_to_be_clickable((By.CSS_SELECTOR, \"a.button.btn-show-more.button__show-more-product\"))\n",
    "                )\n",
    "                show_more_button.click()\n",
    "                time.sleep(2)\n",
    "            except Exception as e:\n",
    "                break\n",
    "\n",
    "        Page = driver.page_source\n",
    "        Soup = BeautifulSoup(Page, \"lxml\")\n",
    "        \n",
    "        # Tìm tất cả tên và giá sản phẩm\n",
    "        Product_Names = Soup.find_all(\"div\", class_=\"product__name\")\n",
    "        Product_Prices = Soup.find_all(\"p\", class_=\"product__price--show\")\n",
    "\n",
    "        Product_Information = {}\n",
    "\n",
    "        # Kiểm tra xem số lượng tên sản phẩm và giá có khớp không\n",
    "        if len(Product_Names) == len(Product_Prices):\n",
    "            for name, price in zip(Product_Names, Product_Prices):\n",
    "                product_name = name.get_text(strip=True)\n",
    "                product_price = price.get_text(strip=True).replace(\"₫\", \"\").replace(\".\", \"\").strip()\n",
    "                Product_Information[product_name] = product_price\n",
    "        else:\n",
    "            print(\"Số lượng tên sản phẩm và giá sản phẩm không khớp!\")\n",
    "\n",
    "        for product, price in Product_Information.items():\n",
    "            print(f\"Tên sản phẩm: {product} - Giá: {price}\")\n",
    "\n",
    "    finally:\n",
    "        # Đóng trình duyệt\n",
    "        driver.quit()\n",
    "    \n",
    "    df = pd.DataFrame(list(Product_Information.items()), columns=[\"Tên sản phẩm\", \"Giá\"])\n",
    "    df.to_csv(f\"{Name}.csv\", header=True, index=False)\n",
    "        \n"
   ]
  },
  {
   "cell_type": "code",
   "execution_count": 3,
   "metadata": {},
   "outputs": [],
   "source": [
    "def Scrape_Product_URL():\n",
    "    URL = \"https://cellphones.com.vn/\"\n",
    "    Homepage = requests.get(URL).text\n",
    "    Soup = BeautifulSoup(Homepage, \"lxml\")\n",
    "\n",
    "    Links = Soup.find_all(\"a\", class_=\"multiple-link\")\n",
    "\n",
    "    Pages = {}\n",
    "    for link in Links:\n",
    "        Page_Name = link.get_text(strip=True).replace(\",\", \"\")\n",
    "        Page_URL = link.get(\"href\")\n",
    "        Pages[Page_Name] = Page_URL\n",
    "\n",
    "    return Pages"
   ]
  },
  {
   "cell_type": "code",
   "execution_count": 4,
   "metadata": {},
   "outputs": [],
   "source": [
    "def Scrape_Per_URL():\n",
    "    Links = Scrape_Product_URL()\n",
    "    for Num in Links:\n",
    "        Scrape_Product(Links[Num], Num)\n",
    "        shutil.move(f\"{Num}.csv\", os.path.join(\"Cellphones Data\",\"Dataset\"))\n",
    "Scrape_Per_URL()   "
   ]
  },
  {
   "cell_type": "code",
   "execution_count": 7,
   "metadata": {},
   "outputs": [],
   "source": [
    "glob.glob(os.path.join(\"Cellphones Data\", \"Dataset\",\"*.csv\"))\n",
    "for Files in glob.glob(os.path.join(\"Cellphones Data\", \"Dataset\",\"*.csv\")):\n",
    "    File = pd.read_csv(Files)\n",
    "    Processed_Prices = []\n",
    "    for price in File['Giá']:\n",
    "        num = price.replace(\"đ\", \"\").strip()\n",
    "        Processed_Prices.append(num)\n",
    "        \n",
    "    File['Giá'] = Processed_Prices\n",
    "    File.to_csv(Files, index=False, encoding='utf-8-sig')"
   ]
  },
  {
   "cell_type": "code",
   "execution_count": 22,
   "metadata": {},
   "outputs": [],
   "source": []
  },
  {
   "cell_type": "code",
   "execution_count": null,
   "metadata": {},
   "outputs": [],
   "source": []
  }
 ],
 "metadata": {
  "kernelspec": {
   "display_name": "python3",
   "language": "python",
   "name": "python3"
  },
  "language_info": {
   "codemirror_mode": {
    "name": "ipython",
    "version": 3
   },
   "file_extension": ".py",
   "mimetype": "text/x-python",
   "name": "python",
   "nbconvert_exporter": "python",
   "pygments_lexer": "ipython3",
   "version": "3.10.14"
  }
 },
 "nbformat": 4,
 "nbformat_minor": 2
}
